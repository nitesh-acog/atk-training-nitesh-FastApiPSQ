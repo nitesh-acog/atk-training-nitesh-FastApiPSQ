{
 "cells": [
  {
   "cell_type": "code",
   "execution_count": 3,
   "id": "49def44e",
   "metadata": {},
   "outputs": [],
   "source": [
    "from fastapi import FastAPI,Depends,status,Response,HTTPException,Request\n",
    "from pydantic import BaseModel\n",
    "import uvicorn\n",
    "import models\n",
    "from database import engine,Session_local\n",
    "from sqlalchemy.orm import Session\n",
    "from fastapi.responses import HTMLResponse\n",
    "from fastapi.staticfiles import StaticFiles\n",
    "from fastapi.templating import Jinja2Templates\n",
    "\n",
    "def get_db():\n",
    "    db=Session_local()\n",
    "    try:\n",
    "        yield db\n",
    "    finally:\n",
    "        db.close()\n"
   ]
  },
  {
   "cell_type": "code",
   "execution_count": 6,
   "id": "21a21b5a",
   "metadata": {},
   "outputs": [],
   "source": [
    "def get_students(db:Session=Depends(get_db)):\n",
    "    blog=db.query(models.Blog).all()\n",
    "    print(dir(blog))\n",
    "    \n",
    "    if not blog:\n",
    "        response.status_code=status.HTTP_404_NOT_FOUND\n",
    "    "
   ]
  },
  {
   "cell_type": "code",
   "execution_count": 7,
   "id": "34e25768",
   "metadata": {},
   "outputs": [
    {
     "ename": "AttributeError",
     "evalue": "'Depends' object has no attribute 'query'",
     "output_type": "error",
     "traceback": [
      "\u001b[0;31m---------------------------------------------------------------------------\u001b[0m",
      "\u001b[0;31mAttributeError\u001b[0m                            Traceback (most recent call last)",
      "Cell \u001b[0;32mIn[7], line 1\u001b[0m\n\u001b[0;32m----> 1\u001b[0m \u001b[43mget_students\u001b[49m\u001b[43m(\u001b[49m\u001b[43m)\u001b[49m\n",
      "Cell \u001b[0;32mIn[6], line 2\u001b[0m, in \u001b[0;36mget_students\u001b[0;34m(db)\u001b[0m\n\u001b[1;32m      1\u001b[0m \u001b[38;5;28;01mdef\u001b[39;00m \u001b[38;5;21mget_students\u001b[39m(db:Session\u001b[38;5;241m=\u001b[39mDepends(get_db)):\n\u001b[0;32m----> 2\u001b[0m     blog\u001b[38;5;241m=\u001b[39m\u001b[43mdb\u001b[49m\u001b[38;5;241;43m.\u001b[39;49m\u001b[43mquery\u001b[49m(models\u001b[38;5;241m.\u001b[39mBlog)\u001b[38;5;241m.\u001b[39mall()\n\u001b[1;32m      3\u001b[0m     \u001b[38;5;28mprint\u001b[39m(\u001b[38;5;28mdir\u001b[39m(blog))\n\u001b[1;32m      5\u001b[0m     \u001b[38;5;28;01mif\u001b[39;00m \u001b[38;5;129;01mnot\u001b[39;00m blog:\n",
      "\u001b[0;31mAttributeError\u001b[0m: 'Depends' object has no attribute 'query'"
     ]
    }
   ],
   "source": [
    "get_students()"
   ]
  },
  {
   "cell_type": "code",
   "execution_count": 9,
   "id": "37558cd6",
   "metadata": {},
   "outputs": [],
   "source": [
    "# from database import Base\n",
    "# from sqlalchemy import Column,Integer,String\n",
    "\n",
    "# class Blog(Base):\n",
    "#     __tablename__='blogs'\n",
    "    \n",
    "#     id= Column(Integer,primary_key=True,index=True)\n",
    "#     title=Column(String)\n",
    "#     #body=\n",
    "\n",
    "\n",
    "# # now go to main.py\n"
   ]
  },
  {
   "cell_type": "code",
   "execution_count": 10,
   "id": "f7e98131",
   "metadata": {},
   "outputs": [],
   "source": [
    "from models import Blog"
   ]
  },
  {
   "cell_type": "code",
   "execution_count": 11,
   "id": "4e290465",
   "metadata": {},
   "outputs": [],
   "source": [
    "bl=Blog(title='jiji')"
   ]
  },
  {
   "cell_type": "code",
   "execution_count": 24,
   "id": "d9fdafaf",
   "metadata": {},
   "outputs": [
    {
     "data": {
      "text/plain": [
       "['_sa_instance_state', 'title']"
      ]
     },
     "execution_count": 24,
     "metadata": {},
     "output_type": "execute_result"
    }
   ],
   "source": [
    "[x for x in bl.__dict__.keys()]"
   ]
  },
  {
   "cell_type": "markdown",
   "id": "1e5443e5",
   "metadata": {},
   "source": [
    "Data Engineering 101\n",
    "\n",
    "Data format(csv,xml,json .....)\n",
    "\n",
    "database (/\n",
    "\n",
    "hadoop file formats (orc, parquet)\n",
    "\n",
    "distributed computing\n",
    "\n",
    "database - a program to query on top of persistance efficiently\n",
    "\n",
    "SQL - RDBMS (vertically scalable)\n",
    "\n",
    "NoSQL - Horizontally scalable.\n",
    "\n",
    "\"%\" is wild card entry in SQL.\n",
    "\n",
    "Shuffles are expensive in big Data world (JOINS).\n",
    "\n",
    "the one main reason to fear join is shufffles are expensive.\n",
    "\n",
    "having is used with aggragation functions.\n",
    "\n",
    "Can we create a user defined Datatype in SQL?\n",
    "\n",
    "user defined Datatypes in SQL is limited. and are rdkit worked with extensions\n",
    "\n",
    "Bulk load and bulk dump is possible many sql providers\n",
    "\n",
    "\n",
    "\n",
    "(sub queries)\n",
    "\n",
    "\\COPY copies from server\n",
    "\n",
    "\n",
    "COPY from local\n",
    "\n",
    "Normalizing table is data Modelling\n",
    "\n",
    "three rules:\n",
    " 1. every cell should have one and one value\n",
    " above is 1st normal form\n",
    " \n",
    " primary key identifies each row uniquely\n",
    " \n",
    " 2nd normal form says\n",
    "  synthetic keys are keys created by individual\n",
    "  \n",
    " 3 rd normal form\n",
    " \n",
    " \n",
    " \n",
    "Constraint column is check for many things\n",
    "\n",
    "Is there any default constraint to all columns as when we create a table?\n",
    "\n",
    "all keys by defination are unique..\n",
    "\n",
    "\n",
    "Indexes:\n",
    "\n",
    "Indexing Columns:\n",
    "\n",
    "Bulk load? will we have two (copies now) 1TB\n",
    "or we are just referencing to disk pointer\n",
    "\n",
    "lets say i have 1gb on local .\n",
    "\n",
    "index makes the column indexed select statement faster with where clause,\n",
    "other columns \n",
    "\n",
    "\n",
    "view:\n",
    "views and materialized views?\n",
    "\n",
    "A transaction is changes made in table (read,write update)\n",
    "\n",
    "`ACID' properties\n",
    "consitant is database is ever not coppeuted\n",
    "\n",
    "'\n",
    "every transaction is unaware of each other\n",
    "'\n",
    "durabilty\n",
    ":\n",
    "when commit is issued it should be written permannently\n",
    "`\n",
    "\n",
    "\n",
    " \n",
    "\n",
    "\n",
    "\n",
    "\n",
    "\n",
    "\n"
   ]
  },
  {
   "cell_type": "code",
   "execution_count": null,
   "id": "d6a48fd5",
   "metadata": {},
   "outputs": [],
   "source": []
  }
 ],
 "metadata": {
  "kernelspec": {
   "display_name": "Python 3 (ipykernel)",
   "language": "python",
   "name": "python3"
  },
  "language_info": {
   "codemirror_mode": {
    "name": "ipython",
    "version": 3
   },
   "file_extension": ".py",
   "mimetype": "text/x-python",
   "name": "python",
   "nbconvert_exporter": "python",
   "pygments_lexer": "ipython3",
   "version": "3.10.8"
  }
 },
 "nbformat": 4,
 "nbformat_minor": 5
}
